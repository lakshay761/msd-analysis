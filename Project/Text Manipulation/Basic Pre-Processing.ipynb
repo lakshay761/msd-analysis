{
 "cells": [
  {
   "cell_type": "code",
   "execution_count": 1,
   "metadata": {},
   "outputs": [],
   "source": [
    "import pandas as pd"
   ]
  },
  {
   "cell_type": "code",
   "execution_count": 2,
   "metadata": {},
   "outputs": [],
   "source": [
    "train = pd.read_csv('SongCSV_filtered.csv')"
   ]
  },
  {
   "cell_type": "code",
   "execution_count": 3,
   "metadata": {},
   "outputs": [
    {
     "data": {
      "text/plain": [
       "0                                         instrumental\n",
       "1    it's time that i rain on your parade watch as ...\n",
       "2    you who's coming up the stairs, shouting- i’m ...\n",
       "3    life is like a merry go round painted horses r...\n",
       "4                                         instrumental\n",
       "Name: Lyrics, dtype: object"
      ]
     },
     "execution_count": 3,
     "metadata": {},
     "output_type": "execute_result"
    }
   ],
   "source": [
    "#Everything in lowercase\n",
    "train['Lyrics'] = train['Lyrics'].apply(lambda x: \" \".join(x.lower() for x in str(x).split()))\n",
    "train['Lyrics'].head()"
   ]
  },
  {
   "cell_type": "code",
   "execution_count": 4,
   "metadata": {},
   "outputs": [
    {
     "data": {
      "text/plain": [
       "0                                         instrumental\n",
       "1    its time that i rain on your parade watch as a...\n",
       "2    you whos coming up the stairs shouting im comi...\n",
       "3    life is like a merry go round painted horses r...\n",
       "4                                         instrumental\n",
       "Name: Lyrics, dtype: object"
      ]
     },
     "execution_count": 4,
     "metadata": {},
     "output_type": "execute_result"
    }
   ],
   "source": [
    "#Removing punctuation that does not add meaning to the song\n",
    "train['Lyrics'] = train['Lyrics'].str.replace('[^\\w\\s]','')\n",
    "train['Lyrics'].head()"
   ]
  },
  {
   "cell_type": "code",
   "execution_count": 5,
   "metadata": {},
   "outputs": [
    {
     "data": {
      "text/plain": [
       "0                                         instrumental\n",
       "1    time rain parade watch hopes explode landmines...\n",
       "2    whos coming stairs shouting im coming dying li...\n",
       "3    life like merry go round painted horses riding...\n",
       "4                                         instrumental\n",
       "Name: Lyrics, dtype: object"
      ]
     },
     "execution_count": 5,
     "metadata": {},
     "output_type": "execute_result"
    }
   ],
   "source": [
    "#Removing of stop words\n",
    "from nltk.corpus import stopwords\n",
    "\n",
    "stop = stopwords.words('english')\n",
    "train['Lyrics'] = train['Lyrics'].apply(lambda x: \" \".join(x for x in str(x).split() if x not in stop))\n",
    "train['Lyrics'].head()"
   ]
  },
  {
   "cell_type": "code",
   "execution_count": 6,
   "metadata": {},
   "outputs": [],
   "source": [
    "# #Top ten most occurring words in lyrics...\n",
    "# freq = pd.Series(' '.join(train['Lyrics']).split()).value_counts()[:10]\n",
    "# freq"
   ]
  },
  {
   "cell_type": "code",
   "execution_count": 7,
   "metadata": {},
   "outputs": [],
   "source": [
    "# #Removal of those common words\n",
    "# freq = list(freq.index)\n",
    "# train['Lyrics'] = train['Lyrics'].apply(lambda x: \" \".join(x for x in x.split() if x not in freq))\n",
    "# train['Lyrics'].head()"
   ]
  },
  {
   "cell_type": "code",
   "execution_count": 8,
   "metadata": {},
   "outputs": [
    {
     "data": {
      "text/plain": [
       "autres        1\n",
       "reporting     1\n",
       "binningham    1\n",
       "menneet       1\n",
       "likkle        1\n",
       "dueña         1\n",
       "namesake      1\n",
       "oprah         1\n",
       "earrings      1\n",
       "capisci       1\n",
       "dtype: int64"
      ]
     },
     "execution_count": 8,
     "metadata": {},
     "output_type": "execute_result"
    }
   ],
   "source": [
    "#Number of RARE words. These words occur so rarely that their meaning don't really constitute anything.\n",
    "freq = pd.Series(' '.join(train['Lyrics']).split()).value_counts()[-10:]\n",
    "freq"
   ]
  },
  {
   "cell_type": "code",
   "execution_count": 9,
   "metadata": {},
   "outputs": [
    {
     "data": {
      "text/plain": [
       "0                                         instrumental\n",
       "1    time rain parade watch hopes explode landmines...\n",
       "2    whos coming stairs shouting im coming dying li...\n",
       "3    life like merry go round painted horses riding...\n",
       "4                                         instrumental\n",
       "Name: Lyrics, dtype: object"
      ]
     },
     "execution_count": 9,
     "metadata": {},
     "output_type": "execute_result"
    }
   ],
   "source": [
    "#Removal of rare words\n",
    "freq = list(freq.index)\n",
    "train['Lyrics'] = train['Lyrics'].apply(lambda x: \" \".join(x for x in x.split() if x not in freq))\n",
    "train['Lyrics'].head()"
   ]
  },
  {
   "cell_type": "code",
   "execution_count": 10,
   "metadata": {},
   "outputs": [],
   "source": [
    "#Correction of Spelling mistakes\n",
    "from textblob import TextBlob\n",
    "train['Lyrics'] = train['Lyrics'].apply(lambda x: str(TextBlob(x).correct()))"
   ]
  },
  {
   "cell_type": "code",
   "execution_count": 11,
   "metadata": {
    "scrolled": true
   },
   "outputs": [
    {
     "data": {
      "text/plain": [
       "0                                         instrumental\n",
       "1    time rain parade watch hopes explode landmines...\n",
       "2    who coming stairs shouting in coming dying lik...\n",
       "3    life like merry go round painted horses riding...\n",
       "4                                         instrumental\n",
       "Name: Lyrics, dtype: object"
      ]
     },
     "execution_count": 11,
     "metadata": {},
     "output_type": "execute_result"
    }
   ],
   "source": [
    "train['Lyrics'].head()"
   ]
  },
  {
   "cell_type": "code",
   "execution_count": 12,
   "metadata": {},
   "outputs": [],
   "source": [
    "# #Stemming is basically removing the 'ly' or 'ing' from the end of the words....\n",
    "# from nltk.stem import PorterStemmer\n",
    "# st = PorterStemmer()\n",
    "# train['Lyrics'] = train['Lyrics'].apply(lambda x: \" \".join([st.stem(word) for word in x.split()]))\n",
    "# train['Lyrics'].head()"
   ]
  },
  {
   "cell_type": "code",
   "execution_count": 14,
   "metadata": {
    "scrolled": true
   },
   "outputs": [
    {
     "data": {
      "text/plain": [
       "0                                         instrumental\n",
       "1    time rain parade watch hope explode landmines ...\n",
       "2    who coming stair shouting in coming dying like...\n",
       "3    life like merry go round painted horse riding ...\n",
       "4                                         instrumental\n",
       "Name: Lyrics, dtype: object"
      ]
     },
     "execution_count": 14,
     "metadata": {},
     "output_type": "execute_result"
    }
   ],
   "source": [
    "#Lemmatization is basically converting a word into its root word. It is preferred over Stemming.\n",
    "from textblob import Word\n",
    "train['Lyrics'] = train['Lyrics'].apply(lambda x: \" \".join([Word(word).lemmatize() for word in x.split()]))\n",
    "train['Lyrics'].head()"
   ]
  },
  {
   "cell_type": "code",
   "execution_count": 15,
   "metadata": {},
   "outputs": [],
   "source": [
    "df = pd.DataFrame(train['Lyrics'])"
   ]
  },
  {
   "cell_type": "code",
   "execution_count": 16,
   "metadata": {},
   "outputs": [
    {
     "data": {
      "text/html": [
       "<div>\n",
       "<style scoped>\n",
       "    .dataframe tbody tr th:only-of-type {\n",
       "        vertical-align: middle;\n",
       "    }\n",
       "\n",
       "    .dataframe tbody tr th {\n",
       "        vertical-align: top;\n",
       "    }\n",
       "\n",
       "    .dataframe thead th {\n",
       "        text-align: right;\n",
       "    }\n",
       "</style>\n",
       "<table border=\"1\" class=\"dataframe\">\n",
       "  <thead>\n",
       "    <tr style=\"text-align: right;\">\n",
       "      <th></th>\n",
       "      <th>Lyrics</th>\n",
       "    </tr>\n",
       "  </thead>\n",
       "  <tbody>\n",
       "    <tr>\n",
       "      <th>0</th>\n",
       "      <td>instrumental</td>\n",
       "    </tr>\n",
       "    <tr>\n",
       "      <th>1</th>\n",
       "      <td>time rain parade watch hope explode landmines ...</td>\n",
       "    </tr>\n",
       "    <tr>\n",
       "      <th>2</th>\n",
       "      <td>who coming stair shouting in coming dying like...</td>\n",
       "    </tr>\n",
       "    <tr>\n",
       "      <th>3</th>\n",
       "      <td>life like merry go round painted horse riding ...</td>\n",
       "    </tr>\n",
       "    <tr>\n",
       "      <th>4</th>\n",
       "      <td>instrumental</td>\n",
       "    </tr>\n",
       "  </tbody>\n",
       "</table>\n",
       "</div>"
      ],
      "text/plain": [
       "                                              Lyrics\n",
       "0                                       instrumental\n",
       "1  time rain parade watch hope explode landmines ...\n",
       "2  who coming stair shouting in coming dying like...\n",
       "3  life like merry go round painted horse riding ...\n",
       "4                                       instrumental"
      ]
     },
     "execution_count": 16,
     "metadata": {},
     "output_type": "execute_result"
    }
   ],
   "source": [
    "df.head()"
   ]
  },
  {
   "cell_type": "code",
   "execution_count": 17,
   "metadata": {},
   "outputs": [],
   "source": [
    "df.to_csv('pre_processed_lyrics(new).csv', index = False)"
   ]
  },
  {
   "cell_type": "code",
   "execution_count": null,
   "metadata": {},
   "outputs": [],
   "source": []
  }
 ],
 "metadata": {
  "kernelspec": {
   "display_name": "Python 3",
   "language": "python",
   "name": "python3"
  },
  "language_info": {
   "codemirror_mode": {
    "name": "ipython",
    "version": 3
   },
   "file_extension": ".py",
   "mimetype": "text/x-python",
   "name": "python",
   "nbconvert_exporter": "python",
   "pygments_lexer": "ipython3",
   "version": "3.6.5"
  }
 },
 "nbformat": 4,
 "nbformat_minor": 2
}
