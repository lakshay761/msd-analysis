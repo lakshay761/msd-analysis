{
 "cells": [
  {
   "cell_type": "code",
   "execution_count": 1,
   "metadata": {},
   "outputs": [],
   "source": [
    "import pandas as pd"
   ]
  },
  {
   "cell_type": "code",
   "execution_count": 2,
   "metadata": {},
   "outputs": [],
   "source": [
    "train = pd.read_csv('SongCSV_filtered.csv')"
   ]
  },
  {
   "cell_type": "code",
   "execution_count": 3,
   "metadata": {},
   "outputs": [
    {
     "data": {
      "text/plain": [
       "0                                         instrumental\n",
       "1    it's time that i rain on your parade watch as ...\n",
       "2    you who's coming up the stairs, shouting- i’m ...\n",
       "3    life is like a merry go round painted horses r...\n",
       "4                                         instrumental\n",
       "Name: Lyrics, dtype: object"
      ]
     },
     "execution_count": 3,
     "metadata": {},
     "output_type": "execute_result"
    }
   ],
   "source": [
    "#Everything in lowercase\n",
    "train['Lyrics'] = train['Lyrics'].apply(lambda x: \" \".join(x.lower() for x in str(x).split()))\n",
    "train['Lyrics'].head()"
   ]
  },
  {
   "cell_type": "code",
   "execution_count": 4,
   "metadata": {},
   "outputs": [
    {
     "data": {
      "text/plain": [
       "0                                         instrumental\n",
       "1    its time that i rain on your parade watch as a...\n",
       "2    you whos coming up the stairs shouting im comi...\n",
       "3    life is like a merry go round painted horses r...\n",
       "4                                         instrumental\n",
       "Name: Lyrics, dtype: object"
      ]
     },
     "execution_count": 4,
     "metadata": {},
     "output_type": "execute_result"
    }
   ],
   "source": [
    "#Removing punctuation that does not add meaning to the song\n",
    "train['Lyrics'] = train['Lyrics'].str.replace('[^\\w\\s]','')\n",
    "train['Lyrics'].head()"
   ]
  },
  {
   "cell_type": "code",
   "execution_count": 5,
   "metadata": {},
   "outputs": [
    {
     "data": {
      "text/plain": [
       "0                                         instrumental\n",
       "1    time rain parade watch hopes explode landmines...\n",
       "2    whos coming stairs shouting im coming dying li...\n",
       "3    life like merry go round painted horses riding...\n",
       "4                                         instrumental\n",
       "Name: Lyrics, dtype: object"
      ]
     },
     "execution_count": 5,
     "metadata": {},
     "output_type": "execute_result"
    }
   ],
   "source": [
    "#Removing of stop words\n",
    "from nltk.corpus import stopwords\n",
    "\n",
    "stop = stopwords.words('english')\n",
    "train['Lyrics'] = train['Lyrics'].apply(lambda x: \" \".join(x for x in str(x).split() if x not in stop))\n",
    "train['Lyrics'].head()"
   ]
  },
  {
   "cell_type": "code",
   "execution_count": 6,
   "metadata": {},
   "outputs": [],
   "source": [
    "# #Top ten most occurring words in lyrics...\n",
    "# freq = pd.Series(' '.join(train['Lyrics']).split()).value_counts()[:10]\n",
    "# freq"
   ]
  },
  {
   "cell_type": "code",
   "execution_count": 7,
   "metadata": {},
   "outputs": [],
   "source": [
    "# #Removal of those common words\n",
    "# freq = list(freq.index)\n",
    "# train['Lyrics'] = train['Lyrics'].apply(lambda x: \" \".join(x for x in x.split() if x not in freq))\n",
    "# train['Lyrics'].head()"
   ]
  },
  {
   "cell_type": "code",
   "execution_count": 8,
   "metadata": {},
   "outputs": [
    {
     "data": {
      "text/plain": [
       "malmène     1\n",
       "seamos      1\n",
       "causin      1\n",
       "tendency    1\n",
       "ia          1\n",
       "vibrolux    1\n",
       "firda       1\n",
       "докосвай    1\n",
       "golpe       1\n",
       "amped       1\n",
       "dtype: int64"
      ]
     },
     "execution_count": 8,
     "metadata": {},
     "output_type": "execute_result"
    }
   ],
   "source": [
    "#Number of RARE words. These words occur so rarely that their meaning don't really constitute anything.\n",
    "freq = pd.Series(' '.join(train['Lyrics']).split()).value_counts()[-10:]\n",
    "freq"
   ]
  },
  {
   "cell_type": "code",
   "execution_count": 9,
   "metadata": {},
   "outputs": [
    {
     "data": {
      "text/plain": [
       "0                                         instrumental\n",
       "1    time rain parade watch hopes explode landmines...\n",
       "2    whos coming stairs shouting im coming dying li...\n",
       "3    life like merry go round painted horses riding...\n",
       "4                                         instrumental\n",
       "Name: Lyrics, dtype: object"
      ]
     },
     "execution_count": 9,
     "metadata": {},
     "output_type": "execute_result"
    }
   ],
   "source": [
    "#Removal of rare words\n",
    "freq = list(freq.index)\n",
    "train['Lyrics'] = train['Lyrics'].apply(lambda x: \" \".join(x for x in x.split() if x not in freq))\n",
    "train['Lyrics'].head()"
   ]
  },
  {
   "cell_type": "code",
   "execution_count": 18,
   "metadata": {},
   "outputs": [],
   "source": [
    "#Correction of Spelling mistakes\n",
    "from textblob import TextBlob\n",
    "train['Lyrics'] = train['Lyrics'].apply(lambda x: str(TextBlob(x).correct()))"
   ]
  },
  {
   "cell_type": "code",
   "execution_count": 20,
   "metadata": {
    "scrolled": true
   },
   "outputs": [
    {
     "data": {
      "text/plain": [
       "0                                         instrumental\n",
       "1    time rain parade watch hopes explode landmines...\n",
       "2    who coming stairs shouting coming dying sick d...\n",
       "3    life merry go round painted horses riding musi...\n",
       "4                                         instrumental\n",
       "Name: Lyrics, dtype: object"
      ]
     },
     "execution_count": 20,
     "metadata": {},
     "output_type": "execute_result"
    }
   ],
   "source": [
    "train['Lyrics'].head()"
   ]
  },
  {
   "cell_type": "code",
   "execution_count": 23,
   "metadata": {},
   "outputs": [
    {
     "data": {
      "text/plain": [
       "0                                           instrument\n",
       "1    time rain parad watch hope explod landmin ask ...\n",
       "2    who come stair shout come die sick disgust wis...\n",
       "3    life merri go round paint hor ride music take ...\n",
       "4                                           instrument\n",
       "Name: Lyrics, dtype: object"
      ]
     },
     "execution_count": 23,
     "metadata": {},
     "output_type": "execute_result"
    }
   ],
   "source": [
    "#Stemming is basically removing the 'ly' or 'ing' from the end of the words....\n",
    "from nltk.stem import PorterStemmer\n",
    "st = PorterStemmer()\n",
    "train['Lyrics'] = train['Lyrics'].apply(lambda x: \" \".join([st.stem(word) for word in x.split()]))\n",
    "train['Lyrics'].head()"
   ]
  },
  {
   "cell_type": "code",
   "execution_count": 24,
   "metadata": {},
   "outputs": [
    {
     "data": {
      "text/plain": [
       "0                                           instrument\n",
       "1    time rain parad watch hope explod landmin ask ...\n",
       "2    who come stair shout come die sick disgust wis...\n",
       "3    life merri go round paint hor ride music take ...\n",
       "4                                           instrument\n",
       "Name: Lyrics, dtype: object"
      ]
     },
     "execution_count": 24,
     "metadata": {},
     "output_type": "execute_result"
    }
   ],
   "source": [
    "#Lemmatization is basically converting a word into its root word. It is preferred over Stemming.\n",
    "from textblob import Word\n",
    "train['Lyrics'] = train['Lyrics'].apply(lambda x: \" \".join([Word(word).lemmatize() for word in x.split()]))\n",
    "train['Lyrics'].head()"
   ]
  },
  {
   "cell_type": "code",
   "execution_count": 26,
   "metadata": {},
   "outputs": [],
   "source": [
    "df = pd.DataFrame(train['Lyrics'])"
   ]
  },
  {
   "cell_type": "code",
   "execution_count": 27,
   "metadata": {},
   "outputs": [
    {
     "data": {
      "text/html": [
       "<div>\n",
       "<style scoped>\n",
       "    .dataframe tbody tr th:only-of-type {\n",
       "        vertical-align: middle;\n",
       "    }\n",
       "\n",
       "    .dataframe tbody tr th {\n",
       "        vertical-align: top;\n",
       "    }\n",
       "\n",
       "    .dataframe thead th {\n",
       "        text-align: right;\n",
       "    }\n",
       "</style>\n",
       "<table border=\"1\" class=\"dataframe\">\n",
       "  <thead>\n",
       "    <tr style=\"text-align: right;\">\n",
       "      <th></th>\n",
       "      <th>Lyrics</th>\n",
       "    </tr>\n",
       "  </thead>\n",
       "  <tbody>\n",
       "    <tr>\n",
       "      <th>0</th>\n",
       "      <td>instrument</td>\n",
       "    </tr>\n",
       "    <tr>\n",
       "      <th>1</th>\n",
       "      <td>time rain parad watch hope explod landmin ask ...</td>\n",
       "    </tr>\n",
       "    <tr>\n",
       "      <th>2</th>\n",
       "      <td>who come stair shout come die sick disgust wis...</td>\n",
       "    </tr>\n",
       "    <tr>\n",
       "      <th>3</th>\n",
       "      <td>life merri go round paint hor ride music take ...</td>\n",
       "    </tr>\n",
       "    <tr>\n",
       "      <th>4</th>\n",
       "      <td>instrument</td>\n",
       "    </tr>\n",
       "  </tbody>\n",
       "</table>\n",
       "</div>"
      ],
      "text/plain": [
       "                                              Lyrics\n",
       "0                                         instrument\n",
       "1  time rain parad watch hope explod landmin ask ...\n",
       "2  who come stair shout come die sick disgust wis...\n",
       "3  life merri go round paint hor ride music take ...\n",
       "4                                         instrument"
      ]
     },
     "execution_count": 27,
     "metadata": {},
     "output_type": "execute_result"
    }
   ],
   "source": [
    "df.head()"
   ]
  },
  {
   "cell_type": "code",
   "execution_count": 28,
   "metadata": {},
   "outputs": [],
   "source": [
    "df.to_csv('pre_processed_lyrics.csv', index = False)"
   ]
  },
  {
   "cell_type": "code",
   "execution_count": null,
   "metadata": {},
   "outputs": [],
   "source": []
  }
 ],
 "metadata": {
  "kernelspec": {
   "display_name": "Python 3",
   "language": "python",
   "name": "python3"
  },
  "language_info": {
   "codemirror_mode": {
    "name": "ipython",
    "version": 3
   },
   "file_extension": ".py",
   "mimetype": "text/x-python",
   "name": "python",
   "nbconvert_exporter": "python",
   "pygments_lexer": "ipython3",
   "version": "3.6.5"
  }
 },
 "nbformat": 4,
 "nbformat_minor": 2
}
