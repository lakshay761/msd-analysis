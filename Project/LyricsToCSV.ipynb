{
 "cells": [
  {
   "cell_type": "code",
   "execution_count": null,
   "metadata": {},
   "outputs": [],
   "source": [
    "#pip install pymusixmatch\n",
    "import pandas as pd\n",
    "import csv\n",
    "import re\n",
    "from musixmatch import Musixmatch\n",
    "musixmatch=Musixmatch('api-key')  #Musixmatch authentication"
   ]
  },
  {
   "cell_type": "code",
   "execution_count": null,
   "metadata": {},
   "outputs": [],
   "source": [
    "df = pd.read_csv('SongCSV_Hott.csv')  #DataFrame\n",
    "df.head()\n",
    "songNameList = df['Title'].values.tolist()  #Creating a list of the songName column\n",
    "artistNameList = df['ArtistName'].values.tolist()  #Creating a list of the artistName column\n",
    "albumNameList = df['AlbumName'].values.tolist()  #Creating a list of the albumName column"
   ]
  },
  {
   "cell_type": "code",
   "execution_count": null,
   "metadata": {},
   "outputs": [],
   "source": [
    "lyricsList = []"
   ]
  },
  {
   "cell_type": "code",
   "execution_count": null,
   "metadata": {},
   "outputs": [],
   "source": [
    "#Trying out how the loop would work for one song lyrics\n",
    "# lyrics = musixmatch.matcher_lyrics_get(songNameList[0], artistNameList[0])\n",
    "# print(lyrics)\n",
    "\n",
    "# lyricsList.append(lyrics['message']['body']['lyrics']['lyrics_copyright'])\n",
    "# lyricsList"
   ]
  },
  {
   "cell_type": "code",
   "execution_count": null,
   "metadata": {},
   "outputs": [],
   "source": [
    "for i in range(0, 1000):\n",
    "    songNameList[i] = re.sub(r'\\([^)]*\\)', '', songNameList[i])  #Removes anything that's in the parenthesis of song name. for example Mr. Brightside (Remix). The bracket part gets removed.\n",
    "    if(songNameList[i].startswith('b')):  #Some song names have the letter 'b' in the starting of their names. This removes that.\n",
    "        songNameList[i] = songNameList[i][1:]\n",
    "\n",
    "    print(f'Song Name: {songNameList[i]} \\nArtist Name: {artistNameList[i]}')\n",
    "    lyricsQ = musixmatch.matcher_lyrics_get(songNameList[i], artistNameList[i])\n",
    "    if(lyricsQ['message']['header']['status_code'] == 200):  #status code 200 means successful query. And we will append the result to the end of our lyricsList\n",
    "        if(lyricsQ['message']['body']['lyrics']['instrumental'] == 1):\n",
    "            lyricsList.append('INSTRUMENTAL')\n",
    "        else:\n",
    "            print(f'Entering lyrics number {i+1}')\n",
    "            lyricsList.append(lyricsQ['message']['body']['lyrics']['lyrics_body'].strip(',').replace('\\n', ' '))\n",
    "    else:  #In case of an unsuccessful query, append empty string\n",
    "        lyricsList.append('')\n",
    "        print('Lyrics not found!')\n",
    "\n",
    "print(lyricsList)\n"
   ]
  },
  {
   "cell_type": "code",
   "execution_count": null,
   "metadata": {},
   "outputs": [],
   "source": [
    "print(len(lyricsList)) #Tells us how many lyrics have we gotten."
   ]
  },
  {
   "cell_type": "code",
   "execution_count": null,
   "metadata": {},
   "outputs": [],
   "source": [
    "lyricsDF = pd.DataFrame(lyricsList)\n",
    "lyricsDF.head()"
   ]
  },
  {
   "cell_type": "code",
   "execution_count": null,
   "metadata": {},
   "outputs": [],
   "source": [
    "lyricsDF.to_csv('lyrics.csv', index=False, header='Lyrics')"
   ]
  },
  {
   "cell_type": "code",
   "execution_count": null,
   "metadata": {},
   "outputs": [],
   "source": []
  }
 ],
 "metadata": {
  "kernelspec": {
   "display_name": "Python 3",
   "language": "python",
   "name": "python3"
  },
  "language_info": {
   "codemirror_mode": {
    "name": "ipython",
    "version": 3
   },
   "file_extension": ".py",
   "mimetype": "text/x-python",
   "name": "python",
   "nbconvert_exporter": "python",
   "pygments_lexer": "ipython3",
   "version": "3.6.5"
  }
 },
 "nbformat": 4,
 "nbformat_minor": 2
}
